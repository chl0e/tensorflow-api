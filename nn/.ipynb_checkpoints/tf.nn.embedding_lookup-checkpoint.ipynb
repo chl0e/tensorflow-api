{
 "cells": [
  {
   "cell_type": "code",
   "execution_count": 5,
   "metadata": {},
   "outputs": [],
   "source": [
    "from __future__ import print_function\n",
    "import numpy as np\n",
    "import tensorflow as tf"
   ]
  },
  {
   "cell_type": "code",
   "execution_count": 39,
   "metadata": {},
   "outputs": [],
   "source": [
    "def test_lookup_sparse():\n",
    "    a = np.arange(8).reshape(2, 4)\n",
    "    b = np.arange(8, 16).reshape(2, 4)\n",
    "    c = np.arange(12, 20).reshape(2, 4)\n",
    "    print (\"a \")\n",
    "    print(a)\n",
    "    print (\"\\nb\")\n",
    "    print(b)\n",
    "    print (\"\\nc\")\n",
    "    print(c)\n",
    "\n",
    "    a = tf.Variable(a, dtype=tf.float32)\n",
    "    b = tf.Variable(b, dtype=tf.float32)\n",
    "    c = tf.Variable(c, dtype=tf.float32)\n",
    "\n",
    "    idx = tf.SparseTensor(indices=[[0,0], [0,2], [1,0], [1, 1]], values=[1,2,2,0], dense_shape=(2,3))\n",
    "    result = tf.nn.embedding_lookup_sparse(params=[a,b,c], sp_ids=idx, sp_weights=None )#, combiner=\"sum\")\n",
    "\n",
    "    init = tf.global_variables_initializer()\n",
    "    sess = tf.Session()\n",
    "    sess.run(init)\n",
    "    idx_val = sess.run(idx)\n",
    "    print (\"\\nidx\")\n",
    "    print (idx_val)\n",
    "    r = sess.run(result)\n",
    "    print (\"\\nres\")\n",
    "    print(r)"
   ]
  },
  {
   "cell_type": "code",
   "execution_count": 40,
   "metadata": {},
   "outputs": [
    {
     "name": "stdout",
     "output_type": "stream",
     "text": [
      "a \n",
      "[[0 1 2 3]\n",
      " [4 5 6 7]]\n",
      "\n",
      "b\n",
      "[[ 8  9 10 11]\n",
      " [12 13 14 15]]\n",
      "\n",
      "c\n",
      "[[12 13 14 15]\n",
      " [16 17 18 19]]\n",
      "WARNING:tensorflow:The default value of combiner will change from \"mean\" to \"sqrtn\" after 2016/11/01.\n",
      "\n",
      "idx\n",
      "SparseTensorValue(indices=array([[0, 0],\n",
      "       [0, 2],\n",
      "       [1, 0],\n",
      "       [1, 1]]), values=array([1, 2, 2, 0], dtype=int32), dense_shape=array([2, 3]))\n",
      "\n",
      "res\n",
      "[[10. 11. 12. 13.]\n",
      " [ 6.  7.  8.  9.]]\n"
     ]
    }
   ],
   "source": [
    "test_lookup_sparse()"
   ]
  },
  {
   "cell_type": "code",
   "execution_count": 67,
   "metadata": {
    "scrolled": true
   },
   "outputs": [
    {
     "name": "stdout",
     "output_type": "stream",
     "text": [
      "[[0 1 2 3]\n",
      " [4 5 6 7]]\n",
      "########### m here #########\n",
      "[[ 8  9 10 11]\n",
      " [16 17 18 19]]\n"
     ]
    }
   ],
   "source": [
    "def test_embedding_lookup():\n",
    "    a = np.arange(8).reshape(2,4)\n",
    "    b = np.arange(8,12).reshape(1,4)\n",
    "    c = np.arange(12, 20).reshape(2,4)\n",
    "\n",
    "    a = tf.Variable(a)\n",
    "    b = tf.Variable(b)\n",
    "    c = tf.Variable(c)\n",
    "\n",
    "    embedded_tensor = tf.nn.embedding_lookup([a,b,c], ids=[1,5])\n",
    "\n",
    "    '''\n",
    "    [[ 0  1  2  3]\n",
    "    [ 8  9 10 11]\n",
    "    [12 13 14 15]\n",
    "    [ 4  5  6  7]]\n",
    "    '''\n",
    "\n",
    "    init = tf.global_variables_initializer()\n",
    "    sess = tf.Session()\n",
    "    sess.run(init)\n",
    "    \n",
    "    print (sess.run(a))\n",
    "    print (sess.run(b))\n",
    "    print (sess.run(c))\n",
    "    res = sess.run(t)\n",
    "    print (\"########## m here #########\")\n",
    "    print(m)\n",
    "test_embedding_lookup()"
   ]
  },
  {
   "cell_type": "code",
   "execution_count": 48,
   "metadata": {},
   "outputs": [
    {
     "name": "stdout",
     "output_type": "stream",
     "text": [
      "a \n",
      "[[0 1 2 3]\n",
      " [4 5 6 7]]\n",
      "\n",
      "b\n",
      "[[ 8  9 10 11]\n",
      " [12 13 14 15]]\n",
      "\n",
      "c\n",
      "[[12 13 14 15]\n",
      " [16 17 18 19]]\n",
      "WARNING:tensorflow:The default value of combiner will change from \"mean\" to \"sqrtn\" after 2016/11/01.\n",
      "\n",
      "idx\n",
      "SparseTensorValue(indices=array([[0, 0]]), values=array([2], dtype=int32), dense_shape=array([1, 2]))\n",
      "\n",
      "res\n",
      "[[12. 13. 14. 15.]]\n"
     ]
    }
   ],
   "source": [
    "def test_lookup_sparse():\n",
    "    a = np.arange(8).reshape(2, 4)\n",
    "    b = np.arange(8, 16).reshape(2, 4)\n",
    "    c = np.arange(12, 20).reshape(2, 4)\n",
    "    print (\"a \")\n",
    "    print(a)\n",
    "    print (\"\\nb\")\n",
    "    print(b)\n",
    "    print (\"\\nc\")\n",
    "    print(c)\n",
    "\n",
    "    a = tf.Variable(a, dtype=tf.float32)\n",
    "    b = tf.Variable(b, dtype=tf.float32)\n",
    "    c = tf.Variable(c, dtype=tf.float32)\n",
    "\n",
    "    idx = tf.SparseTensor(indices=[[0,0]], values=[2], dense_shape=(1,2))\n",
    "    result = tf.nn.embedding_lookup_sparse(params=[a,b,c], sp_ids=idx, sp_weights=None )#, combiner=\"sum\")\n",
    "\n",
    "    init = tf.global_variables_initializer()\n",
    "    sess = tf.Session()\n",
    "    sess.run(init)\n",
    "    idx_val = sess.run(idx)\n",
    "    print (\"\\nidx\")\n",
    "    print (idx_val)\n",
    "    r = sess.run(result)\n",
    "    print (\"\\nres\")\n",
    "    print(r)\n",
    "test_lookup_sparse()"
   ]
  },
  {
   "cell_type": "code",
   "execution_count": 53,
   "metadata": {},
   "outputs": [
    {
     "name": "stdout",
     "output_type": "stream",
     "text": [
      "[[ 0  1  2  3]\n",
      " [ 4  5  6  7]\n",
      " [ 8  9 10 11]\n",
      " [12 13 14 15]\n",
      " [16 17 18 19]]\n"
     ]
    }
   ],
   "source": [
    "a = np.arange(20).reshape(5,4)\n",
    "print (a)"
   ]
  },
  {
   "cell_type": "code",
   "execution_count": 55,
   "metadata": {},
   "outputs": [
    {
     "name": "stdout",
     "output_type": "stream",
     "text": [
      "[[ 0  1  2  3]\n",
      " [12 13 14 15]\n",
      " [ 8  9 10 11]\n",
      " [ 4  5  6  7]]\n"
     ]
    }
   ],
   "source": [
    "tensor_a = tf.Variable(a)\n",
    "embedded_tensor = tf.nn.embedding_lookup(params=tensor_a, ids=[0,3,2,1])\n",
    "init = tf.global_variables_initializer()\n",
    "with tf.Session() as sess:\n",
    "    sess.run(init)\n",
    "    embedded_tensor = sess.run(embedded_tensor)\n",
    "    print(embedded_tensor)"
   ]
  },
  {
   "cell_type": "code",
   "execution_count": null,
   "metadata": {},
   "outputs": [],
   "source": []
  }
 ],
 "metadata": {
  "kernelspec": {
   "display_name": "Python 2",
   "language": "python",
   "name": "python2"
  },
  "language_info": {
   "codemirror_mode": {
    "name": "ipython",
    "version": 2
   },
   "file_extension": ".py",
   "mimetype": "text/x-python",
   "name": "python",
   "nbconvert_exporter": "python",
   "pygments_lexer": "ipython2",
   "version": "2.7.14"
  }
 },
 "nbformat": 4,
 "nbformat_minor": 2
}
