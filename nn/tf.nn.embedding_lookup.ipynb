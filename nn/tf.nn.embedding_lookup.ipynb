{
 "cells": [
  {
   "cell_type": "markdown",
   "metadata": {},
   "source": [
    "# introduction\n",
    "\n",
    "tf.nn.embedding_lookup\n",
    "\n",
    "tf.nn.embedding_lookup_sparse\n",
    "\n",
    "# envs\n",
    "\n",
    "python 2.7"
   ]
  },
  {
   "cell_type": "code",
   "execution_count": 123,
   "metadata": {},
   "outputs": [],
   "source": [
    "from __future__ import print_function\n",
    "import numpy as np\n",
    "import tensorflow as tf"
   ]
  },
  {
   "cell_type": "markdown",
   "metadata": {},
   "source": [
    "tf.nn.embedding_lookup"
   ]
  },
  {
   "cell_type": "code",
   "execution_count": 125,
   "metadata": {
    "scrolled": true
   },
   "outputs": [
    {
     "name": "stdout",
     "output_type": "stream",
     "text": [
      "[[0 1 2 3]\n",
      " [4 5 6 7]]\n",
      "[[ 8  9 10 11]]\n",
      "[[12 13 14 15]\n",
      " [16 17 18 19]]\n",
      "########## embedded_tensor #########\n",
      "[[4 5 6 7]]\n"
     ]
    }
   ],
   "source": [
    "a = tf.Variable(np.arange(8).reshape(2,4))\n",
    "b = tf.Variable(np.arange(8,12).reshape(1,4))\n",
    "c = tf.Variable(np.arange(12, 20).reshape(2,4))\n",
    "\n",
    "embedded_tensor = tf.nn.embedding_lookup(params=[a,b,c], ids=[1], partition_strategy='div', name=\"embedding\")\n",
    "\n",
    "init = tf.global_variables_initializer()\n",
    "with tf.Session() as sess:\n",
    "    sess.run(init)\n",
    "    print (sess.run(a))\n",
    "    print (sess.run(b))\n",
    "    print (sess.run(c))\n",
    "\n",
    "    print (\"########## embedded_tensor #########\")\n",
    "    print(sess.run(embedded_tensor))\n"
   ]
  },
  {
   "cell_type": "markdown",
   "metadata": {},
   "source": [
    "tf.nn.embedding_lookup_sparse"
   ]
  },
  {
   "cell_type": "code",
   "execution_count": 122,
   "metadata": {},
   "outputs": [
    {
     "name": "stdout",
     "output_type": "stream",
     "text": [
      "a :\n",
      "[[0 1 2 3]\n",
      " [4 5 6 7]]\n",
      "b :\n",
      "[[ 8  9 10 11]\n",
      " [12 13 14 15]]\n",
      "c :\n",
      "[[16 17 18 19]\n",
      " [20 21 22 23]]\n",
      "\n",
      "# result here\n",
      "[[24. 26. 28. 30.]\n",
      " [16. 18. 20. 22.]]\n"
     ]
    }
   ],
   "source": [
    "a = np.arange(8).reshape(2, 4)\n",
    "b = np.arange(8, 16).reshape(2, 4)\n",
    "c = np.arange(16, 24).reshape(2, 4)\n",
    "print (\"a :\")\n",
    "print (a)\n",
    "print (\"b :\")\n",
    "print (b)\n",
    "print (\"c :\")\n",
    "print (c)\n",
    "a = tf.Variable(a, dtype=tf.float32)\n",
    "b = tf.Variable(b, dtype=tf.float32)\n",
    "c = tf.Variable(c, dtype=tf.float32)\n",
    "idx = tf.SparseTensor(indices=[[0,0], [0,2], [1,0], [1, 1]], values=[1,2,2,0], dense_shape=(2,3))\n",
    "result = tf.nn.embedding_lookup_sparse([a,b,c], idx, None, partition_strategy='mod', combiner=\"sum\")\n",
    "\n",
    "init = tf.global_variables_initializer()\n",
    "with tf.Session() as sess:\n",
    "    sess.run(init)\n",
    "\n",
    "    res = sess.run(result)\n",
    "    print (\"\\n# result here\")\n",
    "    print(res)"
   ]
  }
 ],
 "metadata": {
  "kernelspec": {
   "display_name": "Python 2",
   "language": "python",
   "name": "python2"
  },
  "language_info": {
   "codemirror_mode": {
    "name": "ipython",
    "version": 2
   },
   "file_extension": ".py",
   "mimetype": "text/x-python",
   "name": "python",
   "nbconvert_exporter": "python",
   "pygments_lexer": "ipython2",
   "version": "2.7.14"
  }
 },
 "nbformat": 4,
 "nbformat_minor": 2
}
